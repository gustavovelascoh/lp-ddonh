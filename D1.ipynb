{
 "cells": [
  {
   "cell_type": "code",
   "execution_count": 2,
   "metadata": {},
   "outputs": [
    {
     "name": "stdout",
     "output_type": "stream",
     "text": [
      "24336\n"
     ]
    }
   ],
   "source": [
    "import pandas as pd\n",
    "import re\n",
    "import geonamescache\n",
    "\n",
    "gc = geonamescache.GeonamesCache()\n",
    "countries = gc.get_countries()\n",
    "cities = gc.get_cities()\n",
    "\n",
    "countries_regex = r\"|\".join([v[\"name\"] for k,v in countries.items()])\n",
    "cities_regex = r\"|\".join([\"(\"+v[\"name\"]+\")\" for k,v in cities.items()])\n",
    "\n",
    "#TODO\n",
    "countries_regex = r\"(?P<countries>\\b(\" + countries_regex + r\")\\b)\"\n",
    "cities_regex = r\"(?P<cities>\\b(\" + cities_regex + r\")\\b)\"\n",
    "places = countries_regex\n",
    "\n",
    "print(len(cities))\n",
    "#print(cities_regex)\n",
    "\n",
    "file = open(\"headlines.txt\", 'r')\n",
    "i=0\n",
    "\n",
    "regexp_cn = re.compile(countries_regex,\n",
    "                    flags=re.IGNORECASE)\n",
    "\n",
    "regexp_ct = re.compile(cities_regex,\n",
    "                    flags=re.IGNORECASE)\n",
    "\n",
    "data_dict = {\"headline\": [],\n",
    "             \"countries\": [],\n",
    "             \"cities\": []}\n",
    "\n",
    "\n",
    "pattern = r\"(\\b(a|of|the)\\b)\"\n",
    "r = re.compile(pattern)\n",
    "\n",
    "for line in file.readlines():\n",
    "    \n",
    "    line_filt = r.sub(\"\", line)    \n",
    "    result_cn = regexp_cn.search(line_filt[:-1])\n",
    "    result_ct = regexp_ct.search(line_filt)\n",
    "    \n",
    "    city = None\n",
    "    country = None\n",
    "    \n",
    "    data_dict[\"headline\"].append(line_filt)\n",
    "\n",
    "    if result_ct == None:\n",
    "        pass\n",
    "    else:\n",
    "        city = result_ct.group(\"cities\")\n",
    "    if result_cn == None:\n",
    "        pass\n",
    "    else:\n",
    "        country = result_cn.group(\"countries\")\n",
    "    \n",
    "    i+=1\n",
    "\n",
    "    data_dict[\"countries\"].append(country)\n",
    "    data_dict[\"cities\"].append(city)\n",
    "    \n",
    "file.close()\n",
    "\n",
    "df = pd.DataFrame(data_dict)\n"
   ]
  },
  {
   "cell_type": "code",
   "execution_count": 4,
   "metadata": {},
   "outputs": [],
   "source": [
    "df.to_csv(\"D1.csv\",index=False)"
   ]
  }
 ],
 "metadata": {
  "kernelspec": {
   "display_name": "Python 3",
   "language": "python",
   "name": "python3"
  },
  "language_info": {
   "codemirror_mode": {
    "name": "ipython",
    "version": 3
   },
   "file_extension": ".py",
   "mimetype": "text/x-python",
   "name": "python",
   "nbconvert_exporter": "python",
   "pygments_lexer": "ipython3",
   "version": "3.6.8"
  }
 },
 "nbformat": 4,
 "nbformat_minor": 2
}
